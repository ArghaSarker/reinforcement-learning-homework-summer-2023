{
  "nbformat": 4,
  "nbformat_minor": 0,
  "metadata": {
    "colab": {
      "provenance": [],
      "authorship_tag": "ABX9TyMKR0G/AuVnXx8Zracq6Z8h",
      "include_colab_link": true
    },
    "kernelspec": {
      "name": "python3",
      "display_name": "Python 3"
    },
    "language_info": {
      "name": "python"
    }
  },
  "cells": [
    {
      "cell_type": "markdown",
      "metadata": {
        "id": "view-in-github",
        "colab_type": "text"
      },
      "source": [
        "<a href=\"https://colab.research.google.com/github/ArghaSarker/reinforcement-learning-homework-summer-2023/blob/main/homework02/GridWorld.ipynb\" target=\"_parent\"><img src=\"https://colab.research.google.com/assets/colab-badge.svg\" alt=\"Open In Colab\"/></a>"
      ]
    },
    {
      "cell_type": "code",
      "source": [
        "import time\n",
        "import numpy as np\n",
        "import random\n",
        "import matplotlib.pyplot as plt"
      ],
      "metadata": {
        "id": "dabYgfYvJ3o_"
      },
      "execution_count": 1,
      "outputs": []
    },
    {
      "cell_type": "code",
      "execution_count": 83,
      "metadata": {
        "id": "sPSIf98e-c1y"
      },
      "outputs": [],
      "source": [
        "class GridWorld():\n",
        "    UP = (+1,  0)\n",
        "    DOWN  = (-1, 0)\n",
        "    LEFT = ( 0, -1)\n",
        "    RIGHT  = ( 0, +1)\n",
        "    ACTIONS = [UP, DOWN, LEFT, RIGHT]\n",
        "    AGENT_START = (0,0)\n",
        "    \n",
        "    def __init__(self, shape, probability, walls, traps, difficult, goal):\n",
        "        self.rows, self.cols = shape\n",
        "        self.probability = probability\n",
        "        self.walls = set(walls)\n",
        "        self.traps = set(traps)\n",
        "        self.difficult = set(difficult)\n",
        "        self.goal = goal\n",
        "        self.agent_state = GridWorld.AGENT_START\n",
        "\n",
        "        self.grid = np.zeros((self.rows, self.cols))\n",
        "        self.grid[self.goal[0], self.goal[1]] = 1\n",
        "\n",
        "        for wall in self.walls:\n",
        "            self.grid[wall[0], wall[1]] = 1\n",
        "            \n",
        "        for trap in self.traps:\n",
        "            self.grid[trap[0], trap[1]] = 1\n",
        "            \n",
        "        for tile in self.difficult:\n",
        "            self.grid[tile[0], tile[1]] = 1\n",
        "\n",
        "    # code for displaying the created grid world\n",
        "    def displayGridWorld(self):\n",
        "      \"\"\"\n",
        "        Displays the grid world.\n",
        "          \n",
        "        Args:\n",
        "            No arguments required.\n",
        "          \n",
        "        Returns:\n",
        "            Prints the grid world.\n",
        "      \"\"\"\n",
        "      for i in range(self.rows):\n",
        "        for j in range(self.cols):\n",
        "            if (i, j) == self.agent_state:\n",
        "                print(\"A\", end=' ')\n",
        "            elif (i, j) == self.goal:\n",
        "                print(\"G\", end=' ')\n",
        "            elif (i, j) in self.walls:\n",
        "                print(\"X\", end=' ')\n",
        "            elif (i, j) in self.traps:\n",
        "                print(\"T\", end=' ')\n",
        "            elif (i, j) in self.difficult:\n",
        "                print(\"D\", end=' ')\n",
        "            else:\n",
        "                print(\".\", end=' ')\n",
        "        print()\n",
        "\n",
        "    def _getStates(self):\n",
        "      \"\"\"\n",
        "        Returns all reachable states.\n",
        "          \n",
        "        Args:\n",
        "            No arguments required.\n",
        "          \n",
        "        Returns:\n",
        "            All the possible states for the agent\n",
        "      \"\"\"\n",
        "      return [(i, j) for i in range(self.rows)\n",
        "                  for j in range(self.cols) if (i, j) not in self.walls and (i, j) not in self.traps]\n",
        "    \n",
        "    # currently not needed thus no documentation\n",
        "    def getProbsGivenState(self, state, action):\n",
        "        transition_probabilities = {}\n",
        "\n",
        "        for x in range(self.rows):\n",
        "            for y in range(self.cols):\n",
        "                state = (x, y)\n",
        "                for ACTIONS in GridWorld.ACTIONS:\n",
        "                    new_x = state[0] + action[0]\n",
        "                    new_y = state[1] + action[1]\n",
        "                    next_state = (new_x if 0 <= new_x < self.rows else state[0], new_y if 0 <= new_y < self.cols else state[1])\n",
        "                    transition_probabilities[(state, action)] = [(next_state, self.probability)]\n",
        "\n",
        "        return transition_probabilities\n",
        "\n",
        "    def _getReward(self, state):\n",
        "      \"\"\"\n",
        "        Calculates the reward that the agent receives for a given state.\n",
        "          \n",
        "        Args:\n",
        "            state: The state the agent ends up in after doing it's move.\n",
        "          \n",
        "        Returns:\n",
        "            The reward for the agent is returned.\n",
        "      \"\"\"\n",
        "      if state in self.goal:\n",
        "        return 100\n",
        "      elif state in self.traps:\n",
        "        return -1.0\n",
        "      elif state in self.walls:\n",
        "        return -0.5\n",
        "      elif state in self.difficult:\n",
        "        return -0.4\n",
        "      else:\n",
        "        return 0.0\n",
        "\n",
        "    def _is_done(self, state):\n",
        "      \"\"\"\n",
        "        Checks whether or not the agent is done with it's current episode.\n",
        "          \n",
        "        Args:\n",
        "            state: The state the agent ends up in after doing it's move.\n",
        "          \n",
        "        Returns:\n",
        "            A boolean indicating whether or not the agent is done.\n",
        "      \"\"\"\n",
        "      return state == self.goal or state in self.traps or state in self.walls\n",
        "\n",
        "    def _moveAgent(self, state, action):\n",
        "      \"\"\"\n",
        "        Moves the Agent in the Grid World.\n",
        "          \n",
        "        Args:\n",
        "            state: The agent's current state.\n",
        "            action: The action that the action is supposed to take.\n",
        "          \n",
        "        Returns:\n",
        "            The agent's next state, the reward received for the action and whether the agent is done with the current epsiode or not.\n",
        "      \"\"\"\n",
        "      new_x = state[0] + action[0]\n",
        "      new_y = state[1] + action[1]\n",
        "      next_state = (new_x if 0 <= new_x < self.rows else state[0], new_y if 0 <= new_y < self.cols else state[1])\n",
        "        \n",
        "      reward = self._getReward(next_state)\n",
        "      is_done = self._is_done(next_state)\n",
        "\n",
        "      if next_state in self.walls or next_state in self.traps:\n",
        "        next_state = state\n",
        "\n",
        "      return next_state, reward, is_done\n",
        "\n",
        "    def _resetWorld(self):\n",
        "      \"\"\"\n",
        "        Resets the grid world.\n",
        "          \n",
        "        Args:\n",
        "            No arguments are needed.\n",
        "          \n",
        "        Returns:\n",
        "            The world is reset internally, thus nothing is returned.\n",
        "      \"\"\"\n",
        "      self.agent_state = GridWorld.AGENT_START\n",
        "\n",
        "    def _construct_epsilon_greedy_policy(self, Q_value, epsilon, no_actions):\n",
        "      \"\"\"\n",
        "        Creates an epsilon-greedy policy based on a given Q-function and epsilon.\n",
        "          \n",
        "        Args:\n",
        "            Q: A dictionary that maps from state -> action-values.\n",
        "                Each value is a numpy array of length nA (see below)\n",
        "            epsilon: The probability to select a random action . float between 0 and 1.\n",
        "            no_actions: The number of available actions.\n",
        "          \n",
        "        Returns:\n",
        "            A policy function that takes a state as an argument and returns the probabilites for all the actions as a numpy array.\n",
        "            The policy also supports annealing of epsilon during training.\n",
        "            Note that the policy is implicitly improved by looking up the best action in the Q_value.\n",
        "\n",
        "        The idea to return the policy as a function was inspired by this source https://github.com/dennybritz/reinforcement-learning/blob/master/MC/MC%20Control%20with%20Epsilon-Greedy%20Policies%20Solution.ipynb\n",
        "      \"\"\"\n",
        "      def greedy_policy(state, no_episode=1):\n",
        "        action_probs = np.ones(no_actions, dtype=float) * epsilon**no_episode / no_actions\n",
        "        best_action = np.argmax(Q_value[state])\n",
        "        action_probs[best_action] += (1.0 - epsilon**no_episode)\n",
        "        return action_probs\n",
        "\n",
        "      return greedy_policy\n",
        "\n",
        "        \n",
        "    def monte_carlo_epsilon_greedy(self, num_episodes, discount_factor, epsilon, anneal_epsilon=False):\n",
        "      \"\"\"\n",
        "          Conducts Monte Carlo epsilon greedy policy improvement\n",
        "          \n",
        "          Args:\n",
        "              num_episodes: The number of episodes to be sampled.\n",
        "              discount_factor: The discount factor to be used for future rewards.\n",
        "              epsilon: The probability to select a random action . float between 0 and 1.\n",
        "              anneal_epsilon: Whether or not to anneal epsilon.\n",
        "          \n",
        "          Returns:\n",
        "              The final Q values as well as the improved policy. Also returns return_per_episode, average_return_per_episode, time_per_episode for plotting\n",
        "              purposes.\n",
        "      \"\"\"\n",
        "      # Lists to track return  and average return per episode as well as the time \n",
        "      return_per_episode = []\n",
        "      average_return_per_episode = []\n",
        "      time_per_episode = []\n",
        "      # Initialize the value function to all zeros\n",
        "      Q = {state: np.zeros(len(GridWorld.ACTIONS)) for state in self._getStates()}\n",
        "      # Keep track of the total return and the number of visits for each state\n",
        "      returns = {(state, action): 0.0 for state in self._getStates() for action in range(0,4)}\n",
        "      visits = {(state, action): 0.0 for state in self._getStates() for action in range(0,4)}\n",
        "\n",
        "      # construct the epsilon greedy policy\n",
        "      policy = self._construct_epsilon_greedy_policy(Q, epsilon, len(GridWorld.ACTIONS))\n",
        "      \n",
        "\n",
        "      for n_episode in range(0, num_episodes):\n",
        "\n",
        "          # We generate an episode\n",
        "          episode = []\n",
        "          state = self.agent_state\n",
        "          done = False \n",
        "\n",
        "          start_time = time.time() \n",
        "          while not done:\n",
        "            # action probabilities are determined by our policy\n",
        "              if anneal_epsilon:\n",
        "                probs = policy(state, n_episode)\n",
        "              else:\n",
        "                probs = policy(state)\n",
        "              # actionis chosen according to the probability distribution\n",
        "              action = np.random.choice(np.arange(len(probs)), p=probs)\n",
        "              next_state, reward, done = self._moveAgent(state, GridWorld.ACTIONS[action])\n",
        "              episode.append((state, action, reward))\n",
        "              if not done:\n",
        "                state = next_state\n",
        "          self._resetWorld()\n",
        "\n",
        "          episode_states_and_actions = set([(tuple(result[0]), result[1]) for result in episode])\n",
        "          G = 0\n",
        "          for state, action in episode_states_and_actions:\n",
        "            state_action_tuple = (state, action)\n",
        "\n",
        "            #This part searches for the first occurrence of any state action pair\n",
        "            state_occurrence_index = None\n",
        "            # we need to find the index of where this state first occurs\n",
        "            for index, result in enumerate(episode):\n",
        "              # the first element is the state so we need to compare this\n",
        "              if result[0] == state and result[1] == action:\n",
        "                state_occurence_index = index\n",
        "                break\n",
        "                \n",
        "            #This part calculates the return after having ound the index\n",
        "            for index, result in enumerate(episode[state_occurence_index:]):\n",
        "              G += result[2] * discount_factor**index\n",
        "\n",
        "            # we update the value for the returns, increment the visits and update the Q value for the state action pair\n",
        "            returns[state_action_tuple] += G\n",
        "            visits[state_action_tuple] += 1.0\n",
        "            Q[state][action] = returns[state_action_tuple] / visits[state_action_tuple]\n",
        "\n",
        "          return_per_episode.append(G)\n",
        "          average_return_per_episode.append(sum(return_per_episode) / len(return_per_episode))\n",
        "          end_time = time.time()\n",
        "          time_per_episode.append(end_time-start_time)\n",
        "\n",
        "      return Q, policy, return_per_episode, average_return_per_episode, time_per_episode\n",
        "\n",
        "    def plot_policy(self, Q, title='Optimal policy'):\n",
        "        num_rows, num_cols = self.rows, self.cols\n",
        "        actions = ['UP', 'DOWN', 'LEFT', 'RIGHT']\n",
        "\n",
        "        fig, ax = plt.subplots()\n",
        "        ax.imshow(self.grid, cmap='binary')\n",
        "        ax.set_title(title)\n",
        "\n",
        "        for row in range(num_rows):\n",
        "            for col in range(num_cols):\n",
        "                state = (row, col)\n",
        "                if state not in Q:\n",
        "                    continue\n",
        "                q_values = Q[state]\n",
        "                max_q_indices = np.argmax(q_values).tolist()\n",
        "                if not isinstance(max_q_indices,list):\n",
        "                  max_q_indices = [max_q_indices]\n",
        "                policy = [0.0, 0.0, 0.0, 0.0]\n",
        "                for max_q_index in max_q_indices:\n",
        "                    policy[max_q_index] = 1.0 / len(max_q_indices)\n",
        "                plt.arrow(row, col, 0.25*policy[3]-0.25*policy[2], -0.25*policy[1]+0.25*policy[0],\n",
        "                          head_width=0.1, head_length=0.1,\n",
        "                          length_includes_head=True)\n",
        "        plt.xlim([-1, num_cols])\n",
        "        plt.ylim([num_rows, -1])\n",
        "        plt.xticks([])\n",
        "        plt.yticks([])\n",
        "        plt.show()"
      ]
    },
    {
      "cell_type": "code",
      "source": [
        "my_grid_test = GridWorld((4,4), 0.25, [(1,1)], [(3,0)], [(0,3)], (2,3))"
      ],
      "metadata": {
        "id": "Ea35NVX1Klt0"
      },
      "execution_count": 84,
      "outputs": []
    },
    {
      "cell_type": "code",
      "source": [
        "my_grid_test.displayGridWorld()"
      ],
      "metadata": {
        "colab": {
          "base_uri": "https://localhost:8080/"
        },
        "id": "bdhrqXahLtFl",
        "outputId": "d972825b-5446-4e7d-db04-652b4cb481f7"
      },
      "execution_count": 14,
      "outputs": [
        {
          "output_type": "stream",
          "name": "stdout",
          "text": [
            "A . . D \n",
            ". X . . \n",
            ". . . G \n",
            "T . . . \n"
          ]
        }
      ]
    },
    {
      "cell_type": "code",
      "source": [
        "Q, policy, return_per_episode, average_return_per_episode, time_per_episode = my_grid_test.monte_carlo_epsilon_greedy(5000, 0.8, 1, True)"
      ],
      "metadata": {
        "id": "zuICr2bC-XHB"
      },
      "execution_count": 85,
      "outputs": []
    },
    {
      "cell_type": "markdown",
      "source": [
        "**Visualising the optimal policy**"
      ],
      "metadata": {
        "id": "v-zHlz64XFbL"
      }
    },
    {
      "cell_type": "code",
      "source": [
        "my_grid_test.plot_policy(Q)"
      ],
      "metadata": {
        "colab": {
          "base_uri": "https://localhost:8080/",
          "height": 428
        },
        "id": "I434iJ8p-wiS",
        "outputId": "92d2621a-69eb-48f5-b738-b258bc4efe14"
      },
      "execution_count": 86,
      "outputs": [
        {
          "output_type": "display_data",
          "data": {
            "text/plain": [
              "<Figure size 640x480 with 1 Axes>"
            ],
            "image/png": "[encoded data removed]"
          },
          "metadata": {}
        }
      ]
    },
    {
      "cell_type": "markdown",
      "source": [
        "**Plotting average return per episode against episodes sampled and wall clock time**"
      ],
      "metadata": {
        "id": "tc1NF76qXJfT"
      }
    },
    {
      "cell_type": "markdown",
      "source": [
        "*Average return vs. episodes sampled*"
      ],
      "metadata": {
        "id": "p9hRC8UNXQP9"
      }
    },
    {
      "cell_type": "code",
      "source": [
        "x = list(range(5000+1)[1:])\n",
        "y = average_return_per_episode\n",
        "plt.plot(x,y)\n",
        "plt.xlabel('Episodes sampled')\n",
        "plt.ylabel('Average return per episode')\n",
        "plt.show()"
      ],
      "metadata": {
        "colab": {
          "base_uri": "https://localhost:8080/",
          "height": 449
        },
        "id": "uo-DxrlVWgNa",
        "outputId": "b74b9da3-69a5-4bef-8d1f-491da44e6523"
      },
      "execution_count": 87,
      "outputs": [
        {
          "output_type": "display_data",
          "data": {
            "text/plain": [
              "<Figure size 640x480 with 1 Axes>"
            ],
            "image/png": "[encoded data removed]"
          },
          "metadata": {}
        }
      ]
    },
    {
      "cell_type": "markdown",
      "source": [
        "*Average return vs. wall clock time*"
      ],
      "metadata": {
        "id": "J96KtYh0XVZU"
      }
    },
    {
      "cell_type": "code",
      "source": [
        "x = time_per_episode\n",
        "y = average_return_per_episode\n",
        "plt.plot(x,y)\n",
        "plt.xlabel('Wallclock time')\n",
        "plt.ylabel('Average return per episode')\n",
        "plt.show()\n",
        "     "
      ],
      "metadata": {
        "colab": {
          "base_uri": "https://localhost:8080/",
          "height": 449
        },
        "id": "dZiKHZp3XAei",
        "outputId": "53ed372e-2f0d-43be-81f1-4dc7ef7098d6"
      },
      "execution_count": 80,
      "outputs": [
        {
          "output_type": "display_data",
          "data": {
            "text/plain": [
              "<Figure size 640x480 with 1 Axes>"
            ],
            "image/png": "[encoded data removed]"
          },
          "metadata": {}
        }
      ]
    }
  ]
}